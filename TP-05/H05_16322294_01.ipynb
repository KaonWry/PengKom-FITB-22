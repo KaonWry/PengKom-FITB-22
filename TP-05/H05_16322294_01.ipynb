{
 "cells": [
  {
   "cell_type": "markdown",
   "metadata": {},
   "source": [
    "Import modul dan dataframe"
   ]
  },
  {
   "cell_type": "code",
   "execution_count": 3,
   "metadata": {},
   "outputs": [],
   "source": [
    "# NIM / Nama    : 16322294 / Trystan Prastanov Gabriel\n",
    "# Tanggal       : 17 November 2022\n",
    "# Deskripsi     : Analisis dataframe nilai matematika, fisika, dan kimia\n",
    "\n",
    "import numpy as np\n",
    "import pandas as pd\n",
    "\n",
    "inpDf = pd.read_csv(\"H05.csv\")"
   ]
  },
  {
   "cell_type": "markdown",
   "metadata": {},
   "source": [
    "1. Hitung banyaknya data"
   ]
  },
  {
   "cell_type": "code",
   "execution_count": 4,
   "metadata": {},
   "outputs": [
    {
     "name": "stdout",
     "output_type": "stream",
     "text": [
      "Banyaknya data : 5135\n"
     ]
    }
   ],
   "source": [
    "print(f\"Banyaknya data : {len(inpDf.index)}\")"
   ]
  },
  {
   "cell_type": "markdown",
   "metadata": {},
   "source": [
    "2. Tampilkan 10 data pertama"
   ]
  },
  {
   "cell_type": "code",
   "execution_count": 5,
   "metadata": {},
   "outputs": [
    {
     "name": "stdout",
     "output_type": "stream",
     "text": [
      "                             nama fakultas  nilai_mat  nilai_kim  nilai_fis\n",
      "0            Farhan Fathur Rahman    FMIPA      57.21      34.14      38.93\n",
      "1                  Steven Margono    FMIPA      67.43      51.50      57.20\n",
      "2                    Ryan Sentosa    SAPPK      90.62      37.38      40.73\n",
      "3            Muhajah Babny Muslim    FMIPA      72.31      38.80      44.79\n",
      "4                Alvin Natawiguna     FTSL      65.45      57.67      56.39\n",
      "5                   Sasti Safitri     FTSL      60.58      41.91      51.55\n",
      "6             Dani Yulianto Putra     FTSL      51.67      35.05      48.69\n",
      "7  Nabila Febitsukarizky Bunyamin     FTTM      71.66      67.61      69.75\n",
      "8             Ratna Siti Khodijah      FTI      73.06      59.16      59.48\n",
      "9                    Gita Partiwi     FTSL      69.57      38.84      48.17\n"
     ]
    }
   ],
   "source": [
    "print(f\"{inpDf.head(10)}\")"
   ]
  },
  {
   "cell_type": "markdown",
   "metadata": {},
   "source": [
    "3. Tampilkan data ke-50 sampai data ke-60"
   ]
  },
  {
   "cell_type": "code",
   "execution_count": 6,
   "metadata": {},
   "outputs": [
    {
     "name": "stdout",
     "output_type": "stream",
     "text": [
      "                        nama fakultas  nilai_mat  nilai_kim  nilai_fis\n",
      "50      Arief Syakur Sutedjo     FTTM      84.40      61.21      73.91\n",
      "51         Fayi Raihan Saleh    FMIPA      60.62      32.57      42.34\n",
      "52          Erna Kristiawati      FTI      67.48      46.78      52.30\n",
      "53                    Albert    SAPPK      70.27      50.10      54.01\n",
      "54  M Jazztyan Indra Pradana     STEI      53.40      43.06      60.30\n",
      "55      Moch Ginanjar Busiri    FMIPA      74.29      38.44      49.15\n",
      "56              Aisya Tamara     FITB      71.49      35.86      37.41\n",
      "57        Tyas Arum Widayati    SAPPK      68.57      37.02      53.25\n",
      "58                Arif Saleh      FTI     100.00      59.79      55.33\n",
      "59     Windy Diwita Nisaekti      FTI      67.15      57.72      54.24\n",
      "60             Alif Aviano S     STEI      54.11      58.01      73.17\n"
     ]
    }
   ],
   "source": [
    "print(f\"{inpDf.iloc[50:61]}\")"
   ]
  },
  {
   "cell_type": "markdown",
   "metadata": {},
   "source": [
    "4. Tampilkan jumlah mahasiswa tiap fakultas"
   ]
  },
  {
   "cell_type": "code",
   "execution_count": 10,
   "metadata": {},
   "outputs": [
    {
     "name": "stdout",
     "output_type": "stream",
     "text": [
      "FMIPA : 627\n",
      "SAPPK : 315\n",
      "FTSL : 660\n",
      "FTTM : 579\n",
      "FTI : 834\n",
      "FITB : 403\n",
      "STEI : 777\n",
      "FTMD : 480\n",
      "SITHS : 178\n",
      "SITHR : 282\n"
     ]
    }
   ],
   "source": [
    "fakultas = inpDf[\"fakultas\"].unique()\n",
    "for i in fakultas:\n",
    "    print(f\"{i} : {len(inpDf[inpDf['fakultas'] == i])}\")"
   ]
  },
  {
   "cell_type": "markdown",
   "metadata": {},
   "source": [
    "5. Menurut pengamatan dari tabel data nilai dan scatter plot di nomor 3, nilai fisika dan kimia dari mahasiswa cenderung berbanding lurus, dimana semakin tinggi nilai fisika seorang mahasiswa, maka nilai kimiannya cenderung juga tinggi"
   ]
  }
 ],
 "metadata": {
  "kernelspec": {
   "display_name": "Python 3",
   "language": "python",
   "name": "python3"
  },
  "language_info": {
   "codemirror_mode": {
    "name": "ipython",
    "version": 3
   },
   "file_extension": ".py",
   "mimetype": "text/x-python",
   "name": "python",
   "nbconvert_exporter": "python",
   "pygments_lexer": "ipython3",
   "version": "3.10.8"
  },
  "vscode": {
   "interpreter": {
    "hash": "e7370f93d1d0cde622a1f8e1c04877d8463912d04d973331ad4851f04de6915a"
   }
  }
 },
 "nbformat": 4,
 "nbformat_minor": 4
}
