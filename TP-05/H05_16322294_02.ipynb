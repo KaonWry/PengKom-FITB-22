{
 "cells": [
  {
   "cell_type": "markdown",
   "metadata": {},
   "source": [
    "Import modul dan data frame"
   ]
  },
  {
   "cell_type": "code",
   "execution_count": 5,
   "metadata": {},
   "outputs": [],
   "source": [
    "# NIM / Nama    : 16322294 / Trystan Prastanov Gabriel\n",
    "# Tanggal       : 17 November 2022\n",
    "# Deskripsi     : Analisis dataframe nilai matematika, fisika, dan kimia\n",
    "\n",
    "import numpy as np\n",
    "import pandas as pd\n",
    "\n",
    "inpDf = pd.read_csv(\"H05.csv\")"
   ]
  },
  {
   "cell_type": "markdown",
   "metadata": {},
   "source": [
    "1. Tampilkan nilai matematika, fisika, dan kimia Tuan Leo"
   ]
  },
  {
   "cell_type": "code",
   "execution_count": 6,
   "metadata": {},
   "outputs": [
    {
     "name": "stdout",
     "output_type": "stream",
     "text": [
      "Nilai Tuan Leo\n",
      "Nilai matematika : 96.78\n",
      "Nilai fisika : 30.53\n",
      "Nilai kimia : 62.23\n"
     ]
    }
   ],
   "source": [
    "print(\"Nilai Tuan Leo\")\n",
    "print(f\"Nilai matematika : {inpDf.loc[inpDf['nama'] == 'Tuan Leo', 'nilai_mat'].values[0]}\")\n",
    "print(f\"Nilai fisika : {inpDf.loc[inpDf['nama'] == 'Tuan Leo', 'nilai_fis'].values[0]}\")\n",
    "print(f\"Nilai kimia : {inpDf.loc[inpDf['nama'] == 'Tuan Leo', 'nilai_kim'].values[0]}\")"
   ]
  },
  {
   "cell_type": "markdown",
   "metadata": {},
   "source": [
    "2. Tampilkan mahasiswa dengan nilai matematika tertinggi"
   ]
  },
  {
   "cell_type": "code",
   "execution_count": 7,
   "metadata": {},
   "outputs": [
    {
     "name": "stdout",
     "output_type": "stream",
     "text": [
      "Mahasiswa yang mendapat nilai matematika tertinggi : \n",
      "Ria Tri Wahyuni\n",
      "Arif Saleh\n",
      "Ahmad Ibrahim Fahmi\n",
      "Caesar Lanang Kurniawan\n",
      "Laura Estwin Gunawan\n",
      "Angga Nanda Pratama\n",
      "Harry Hartowo\n",
      "David Senjaya\n",
      "Faniar Sukmasari\n",
      "Puteri Delphia Esther\n",
      "Aji Faishal Nurhakim\n",
      "Gladyza Putri Vanska\n",
      "Vinskatania Agung Andrias\n",
      "Gregorius Dermawan\n",
      "Alpin Wisely\n",
      "Dendy Suryo Abaddy\n",
      "Girindra Maheninggalih\n",
      "Hendryan Suryadi\n",
      "Ni Luh Wisma Eka Yanti\n",
      "Dita Rama Sari As\n",
      "Mila Isti Riani\n",
      "Ken Kartawijaya\n",
      "Muhammad Fakhri Wiratama S\n",
      "Richard Andika\n",
      "Dimas Angga Saputra\n",
      "Ildo Rusdiansyah\n",
      "Eka Devi Wulandari\n",
      "Mohammad Rahman Ardhiansyah\n",
      "Tahera Kania\n",
      "Astrid Cintyaputri\n",
      "Rianda Ainurrido\n",
      "Hanif Santyabudhi Sutiyoso\n",
      "Kamige Sulistyo\n",
      "Jonathan Febrianto\n",
      "Yoga Adrian Saputra\n",
      "Wildan Firdaus\n",
      "Dary Achmad Budi\n",
      "Karina Sinaga\n",
      "Muhammad Rizki\n",
      "Alexander Daulat Roni Tua\n",
      "Indah Anandya Mahendra\n",
      "Muhammad Ridha Galis\n",
      "Silmi Sabila\n",
      "Rizka Septriana Maharani\n",
      "Nurwida Rizki Ramadhani Putri\n",
      "Meutia Yunita\n",
      "Ifan Akhmad Fauzy\n",
      "Fajar Nurghifari Aziz\n",
      "Arfie Nugraha\n",
      "Muntaha Ilmi\n",
      "Yudhistira Harin Adisatria\n",
      "Revie Marthensa\n",
      "Ridho Pratama\n",
      "Rohendy Michael\n",
      "Afifah Nurmala Karima\n",
      "Adyansyah Patonangi\n",
      "Stevanus Elyasta Sebayang\n",
      "Alyssa Diva Mustika\n",
      "Muhammad Hirzan Arrifqi\n",
      "Benjamin Nathanael\n",
      "Mira Rizki Kurnia\n",
      "Syahrifa Aulia\n",
      "Tedo Esmu Ziraga\n",
      "Samira Tasyaa Navianda\n",
      "Sisca Tri Wijayanti\n",
      "Isabella Julia Putri\n",
      "Alvin Raditya Tanto\n",
      "Nova Ginanjar Hidayat\n",
      "Mustika Nurul Ulma\n",
      "Andhiki Supono\n",
      "Fandy Valentino\n",
      "Fauziyah Nurul Aini\n"
     ]
    }
   ],
   "source": [
    "maxMath = inpDf.loc[inpDf['nilai_mat']==inpDf['nilai_mat'].max(), 'nama'].values\n",
    "print(\"Mahasiswa yang mendapat nilai matematika tertinggi : \")\n",
    "print(\"\\n\".join(maxMath))"
   ]
  },
  {
   "cell_type": "markdown",
   "metadata": {},
   "source": [
    "3. Tampilkan 10 mahasiswa dengan nilai kimia tertinggi"
   ]
  },
  {
   "cell_type": "code",
   "execution_count": 13,
   "metadata": {},
   "outputs": [
    {
     "name": "stdout",
     "output_type": "stream",
     "text": [
      "10 mahasiswa dengan nilai kimia tertinggi : \n",
      "Faathir Reza Avicena\n",
      "Dinda A A Z Mundakir\n",
      "Tammya Ayu Purnomo\n",
      "Alyssa Nadhira Windari\n",
      "Izni Nur Ibrahim\n",
      "Rinaldi Oky Setiawan\n",
      "Ias Azhari Rezkyarno\n",
      "Klara Petra T T\n",
      "Naudy Germanimo Laksmana\n",
      "Mardliyahtur Rohmah\n"
     ]
    }
   ],
   "source": [
    "print(\"10 mahasiswa dengan nilai kimia tertinggi : \")\n",
    "topKimia = (inpDf.sort_values([\"nilai_kim\"], ascending=[0]).head(10))['nama'].values\n",
    "print(\"\\n\".join(topKimia))"
   ]
  },
  {
   "cell_type": "markdown",
   "metadata": {},
   "source": [
    "4. Jumlah nilai matematika dibawah 50"
   ]
  },
  {
   "cell_type": "code",
   "execution_count": 19,
   "metadata": {},
   "outputs": [
    {
     "name": "stdout",
     "output_type": "stream",
     "text": [
      "Jumlah mahasiswa dengan nilai matematika dibawah 50 : 329\n"
     ]
    }
   ],
   "source": [
    "print(f\"Jumlah mahasiswa dengan nilai matematika dibawah 50 : {len(inpDf.loc[inpDf['nilai_mat'] < 50])}\")"
   ]
  },
  {
   "cell_type": "markdown",
   "metadata": {},
   "source": [
    "5. Jumlah mahasiswa FMIPA"
   ]
  },
  {
   "cell_type": "code",
   "execution_count": 21,
   "metadata": {},
   "outputs": [
    {
     "name": "stdout",
     "output_type": "stream",
     "text": [
      "Jumlah mahasiswa dari FMIPA : 627\n"
     ]
    }
   ],
   "source": [
    "print(f\"Jumlah mahasiswa dari FMIPA : {len(inpDf.loc[inpDf['fakultas'] == 'FMIPA'])}\")"
   ]
  }
 ],
 "metadata": {
  "kernelspec": {
   "display_name": "Python 3",
   "language": "python",
   "name": "python3"
  },
  "language_info": {
   "codemirror_mode": {
    "name": "ipython",
    "version": 3
   },
   "file_extension": ".py",
   "mimetype": "text/x-python",
   "name": "python",
   "nbconvert_exporter": "python",
   "pygments_lexer": "ipython3",
   "version": "3.10.8"
  },
  "orig_nbformat": 4,
  "vscode": {
   "interpreter": {
    "hash": "e7370f93d1d0cde622a1f8e1c04877d8463912d04d973331ad4851f04de6915a"
   }
  }
 },
 "nbformat": 4,
 "nbformat_minor": 2
}
